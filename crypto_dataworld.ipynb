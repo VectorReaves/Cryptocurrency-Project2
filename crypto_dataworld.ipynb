{
 "cells": [
  {
   "cell_type": "code",
   "execution_count": 1,
   "id": "d8cc3f3a",
   "metadata": {},
   "outputs": [],
   "source": [
    "import pandas as pd\n",
    "from sqlalchemy import create_engine\n",
    "import json\n",
    "import requests\n",
    "from pandas.io.json import json_normalize\n",
    "from urllib.request import urlopen"
   ]
  },
  {
   "cell_type": "code",
   "execution_count": 2,
   "id": "015faa2a",
   "metadata": {},
   "outputs": [
    {
     "data": {
      "text/html": [
       "<div>\n",
       "<style scoped>\n",
       "    .dataframe tbody tr th:only-of-type {\n",
       "        vertical-align: middle;\n",
       "    }\n",
       "\n",
       "    .dataframe tbody tr th {\n",
       "        vertical-align: top;\n",
       "    }\n",
       "\n",
       "    .dataframe thead th {\n",
       "        text-align: right;\n",
       "    }\n",
       "</style>\n",
       "<table border=\"1\" class=\"dataframe\">\n",
       "  <thead>\n",
       "    <tr style=\"text-align: right;\">\n",
       "      <th></th>\n",
       "      <th>average</th>\n",
       "      <th>time</th>\n",
       "      <th>high</th>\n",
       "      <th>low</th>\n",
       "      <th>open</th>\n",
       "      <th>volume</th>\n",
       "    </tr>\n",
       "  </thead>\n",
       "  <tbody>\n",
       "    <tr>\n",
       "      <th>0</th>\n",
       "      <td>58277.59</td>\n",
       "      <td>2021-11-25 00:00:00</td>\n",
       "      <td>59409.51</td>\n",
       "      <td>57094.56</td>\n",
       "      <td>57197.81</td>\n",
       "      <td>29739.210761</td>\n",
       "    </tr>\n",
       "    <tr>\n",
       "      <th>1</th>\n",
       "      <td>56772.41</td>\n",
       "      <td>2021-11-24 00:00:00</td>\n",
       "      <td>57677.94</td>\n",
       "      <td>55999.13</td>\n",
       "      <td>57601.95</td>\n",
       "      <td>33898.385536</td>\n",
       "    </tr>\n",
       "    <tr>\n",
       "      <th>2</th>\n",
       "      <td>56923.07</td>\n",
       "      <td>2021-11-23 00:00:00</td>\n",
       "      <td>57847.04</td>\n",
       "      <td>55709.19</td>\n",
       "      <td>56308.07</td>\n",
       "      <td>42721.337108</td>\n",
       "    </tr>\n",
       "    <tr>\n",
       "      <th>3</th>\n",
       "      <td>57397.93</td>\n",
       "      <td>2021-11-22 00:00:00</td>\n",
       "      <td>59224.7</td>\n",
       "      <td>55746.63</td>\n",
       "      <td>58860.23</td>\n",
       "      <td>57911.765042</td>\n",
       "    </tr>\n",
       "    <tr>\n",
       "      <th>4</th>\n",
       "      <td>59212.89</td>\n",
       "      <td>2021-11-21 00:00:00</td>\n",
       "      <td>59996.33</td>\n",
       "      <td>58712.58</td>\n",
       "      <td>59776.14</td>\n",
       "      <td>18103.065426</td>\n",
       "    </tr>\n",
       "  </tbody>\n",
       "</table>\n",
       "</div>"
      ],
      "text/plain": [
       "    average                 time      high       low      open        volume\n",
       "0  58277.59  2021-11-25 00:00:00  59409.51  57094.56  57197.81  29739.210761\n",
       "1  56772.41  2021-11-24 00:00:00  57677.94  55999.13  57601.95  33898.385536\n",
       "2  56923.07  2021-11-23 00:00:00  57847.04  55709.19  56308.07  42721.337108\n",
       "3  57397.93  2021-11-22 00:00:00   59224.7  55746.63  58860.23  57911.765042\n",
       "4  59212.89  2021-11-21 00:00:00  59996.33  58712.58  59776.14  18103.065426"
      ]
     },
     "execution_count": 2,
     "metadata": {},
     "output_type": "execute_result"
    }
   ],
   "source": [
    "# Bitcoin ONLY - pulled from data world.\n",
    "bitcoin_df = pd.read_json('https://query.data.world/s/cpfmzvxadcf6ynzriluhpyailqj4y4')\n",
    "bitcoin_df.head()"
   ]
  },
  {
   "cell_type": "code",
   "execution_count": 3,
   "id": "f66531c0",
   "metadata": {},
   "outputs": [
    {
     "data": {
      "text/html": [
       "<div>\n",
       "<style scoped>\n",
       "    .dataframe tbody tr th:only-of-type {\n",
       "        vertical-align: middle;\n",
       "    }\n",
       "\n",
       "    .dataframe tbody tr th {\n",
       "        vertical-align: top;\n",
       "    }\n",
       "\n",
       "    .dataframe thead th {\n",
       "        text-align: right;\n",
       "    }\n",
       "</style>\n",
       "<table border=\"1\" class=\"dataframe\">\n",
       "  <thead>\n",
       "    <tr style=\"text-align: right;\">\n",
       "      <th></th>\n",
       "      <th>average</th>\n",
       "      <th>time</th>\n",
       "      <th>volume</th>\n",
       "    </tr>\n",
       "  </thead>\n",
       "  <tbody>\n",
       "    <tr>\n",
       "      <th>0</th>\n",
       "      <td>58277.59</td>\n",
       "      <td>2021-11-25 00:00:00</td>\n",
       "      <td>29739.210761</td>\n",
       "    </tr>\n",
       "    <tr>\n",
       "      <th>1</th>\n",
       "      <td>56772.41</td>\n",
       "      <td>2021-11-24 00:00:00</td>\n",
       "      <td>33898.385536</td>\n",
       "    </tr>\n",
       "    <tr>\n",
       "      <th>2</th>\n",
       "      <td>56923.07</td>\n",
       "      <td>2021-11-23 00:00:00</td>\n",
       "      <td>42721.337108</td>\n",
       "    </tr>\n",
       "    <tr>\n",
       "      <th>3</th>\n",
       "      <td>57397.93</td>\n",
       "      <td>2021-11-22 00:00:00</td>\n",
       "      <td>57911.765042</td>\n",
       "    </tr>\n",
       "    <tr>\n",
       "      <th>4</th>\n",
       "      <td>59212.89</td>\n",
       "      <td>2021-11-21 00:00:00</td>\n",
       "      <td>18103.065426</td>\n",
       "    </tr>\n",
       "  </tbody>\n",
       "</table>\n",
       "</div>"
      ],
      "text/plain": [
       "    average                 time        volume\n",
       "0  58277.59  2021-11-25 00:00:00  29739.210761\n",
       "1  56772.41  2021-11-24 00:00:00  33898.385536\n",
       "2  56923.07  2021-11-23 00:00:00  42721.337108\n",
       "3  57397.93  2021-11-22 00:00:00  57911.765042\n",
       "4  59212.89  2021-11-21 00:00:00  18103.065426"
      ]
     },
     "execution_count": 3,
     "metadata": {},
     "output_type": "execute_result"
    }
   ],
   "source": [
    "new_bitcoin_dataworld_df = bitcoin_df[[\"average\", \"time\", \"volume\"]].copy()\n",
    "new_bitcoin_dataworld_df.head()"
   ]
  },
  {
   "cell_type": "code",
   "execution_count": 4,
   "id": "64dca19a",
   "metadata": {},
   "outputs": [],
   "source": [
    "rds_connection_string = \"postgres:rocket211@localhost:5432/Crypto_DB\"\n",
    "engine = create_engine(f'postgresql://{rds_connection_string}')"
   ]
  },
  {
   "cell_type": "code",
   "execution_count": 5,
   "id": "2e280e52",
   "metadata": {},
   "outputs": [],
   "source": [
    "new_bitcoin_dataworld_df.to_sql(name='dataworld', con=engine, if_exists='append', index=False)"
   ]
  },
  {
   "cell_type": "code",
   "execution_count": 6,
   "id": "4023d59d",
   "metadata": {},
   "outputs": [
    {
     "data": {
      "text/html": [
       "<div>\n",
       "<style scoped>\n",
       "    .dataframe tbody tr th:only-of-type {\n",
       "        vertical-align: middle;\n",
       "    }\n",
       "\n",
       "    .dataframe tbody tr th {\n",
       "        vertical-align: top;\n",
       "    }\n",
       "\n",
       "    .dataframe thead th {\n",
       "        text-align: right;\n",
       "    }\n",
       "</style>\n",
       "<table border=\"1\" class=\"dataframe\">\n",
       "  <thead>\n",
       "    <tr style=\"text-align: right;\">\n",
       "      <th></th>\n",
       "      <th>average</th>\n",
       "      <th>time</th>\n",
       "      <th>volume</th>\n",
       "    </tr>\n",
       "  </thead>\n",
       "  <tbody>\n",
       "    <tr>\n",
       "      <th>0</th>\n",
       "      <td>58277.59</td>\n",
       "      <td>2021-11-25 00:00:00</td>\n",
       "      <td>29739.210761</td>\n",
       "    </tr>\n",
       "    <tr>\n",
       "      <th>1</th>\n",
       "      <td>56772.41</td>\n",
       "      <td>2021-11-24 00:00:00</td>\n",
       "      <td>33898.385536</td>\n",
       "    </tr>\n",
       "    <tr>\n",
       "      <th>2</th>\n",
       "      <td>56923.07</td>\n",
       "      <td>2021-11-23 00:00:00</td>\n",
       "      <td>42721.337108</td>\n",
       "    </tr>\n",
       "    <tr>\n",
       "      <th>3</th>\n",
       "      <td>57397.93</td>\n",
       "      <td>2021-11-22 00:00:00</td>\n",
       "      <td>57911.765042</td>\n",
       "    </tr>\n",
       "    <tr>\n",
       "      <th>4</th>\n",
       "      <td>59212.89</td>\n",
       "      <td>2021-11-21 00:00:00</td>\n",
       "      <td>18103.065426</td>\n",
       "    </tr>\n",
       "  </tbody>\n",
       "</table>\n",
       "</div>"
      ],
      "text/plain": [
       "    average                 time        volume\n",
       "0  58277.59  2021-11-25 00:00:00  29739.210761\n",
       "1  56772.41  2021-11-24 00:00:00  33898.385536\n",
       "2  56923.07  2021-11-23 00:00:00  42721.337108\n",
       "3  57397.93  2021-11-22 00:00:00  57911.765042\n",
       "4  59212.89  2021-11-21 00:00:00  18103.065426"
      ]
     },
     "execution_count": 6,
     "metadata": {},
     "output_type": "execute_result"
    }
   ],
   "source": [
    "pd.read_sql_query('select * from dataworld', con=engine).head()"
   ]
  },
  {
   "cell_type": "code",
   "execution_count": 7,
   "id": "78fcc6ac",
   "metadata": {},
   "outputs": [
    {
     "data": {
      "text/html": [
       "<div>\n",
       "<style scoped>\n",
       "    .dataframe tbody tr th:only-of-type {\n",
       "        vertical-align: middle;\n",
       "    }\n",
       "\n",
       "    .dataframe tbody tr th {\n",
       "        vertical-align: top;\n",
       "    }\n",
       "\n",
       "    .dataframe thead th {\n",
       "        text-align: right;\n",
       "    }\n",
       "</style>\n",
       "<table border=\"1\" class=\"dataframe\">\n",
       "  <thead>\n",
       "    <tr style=\"text-align: right;\">\n",
       "      <th></th>\n",
       "      <th>Average</th>\n",
       "      <th>Time</th>\n",
       "      <th>High</th>\n",
       "      <th>Low</th>\n",
       "      <th>Open</th>\n",
       "      <th>Volume</th>\n",
       "    </tr>\n",
       "  </thead>\n",
       "  <tbody>\n",
       "    <tr>\n",
       "      <th>0</th>\n",
       "      <td>58277.59</td>\n",
       "      <td>2021-11-25 00:00:00</td>\n",
       "      <td>59409.51</td>\n",
       "      <td>57094.56</td>\n",
       "      <td>57197.81</td>\n",
       "      <td>29739.210761</td>\n",
       "    </tr>\n",
       "    <tr>\n",
       "      <th>1</th>\n",
       "      <td>56772.41</td>\n",
       "      <td>2021-11-24 00:00:00</td>\n",
       "      <td>57677.94</td>\n",
       "      <td>55999.13</td>\n",
       "      <td>57601.95</td>\n",
       "      <td>33898.385536</td>\n",
       "    </tr>\n",
       "    <tr>\n",
       "      <th>2</th>\n",
       "      <td>56923.07</td>\n",
       "      <td>2021-11-23 00:00:00</td>\n",
       "      <td>57847.04</td>\n",
       "      <td>55709.19</td>\n",
       "      <td>56308.07</td>\n",
       "      <td>42721.337108</td>\n",
       "    </tr>\n",
       "    <tr>\n",
       "      <th>3</th>\n",
       "      <td>57397.93</td>\n",
       "      <td>2021-11-22 00:00:00</td>\n",
       "      <td>59224.7</td>\n",
       "      <td>55746.63</td>\n",
       "      <td>58860.23</td>\n",
       "      <td>57911.765042</td>\n",
       "    </tr>\n",
       "    <tr>\n",
       "      <th>4</th>\n",
       "      <td>59212.89</td>\n",
       "      <td>2021-11-21 00:00:00</td>\n",
       "      <td>59996.33</td>\n",
       "      <td>58712.58</td>\n",
       "      <td>59776.14</td>\n",
       "      <td>18103.065426</td>\n",
       "    </tr>\n",
       "  </tbody>\n",
       "</table>\n",
       "</div>"
      ],
      "text/plain": [
       "    Average                 Time      High       Low      Open        Volume\n",
       "0  58277.59  2021-11-25 00:00:00  59409.51  57094.56  57197.81  29739.210761\n",
       "1  56772.41  2021-11-24 00:00:00  57677.94  55999.13  57601.95  33898.385536\n",
       "2  56923.07  2021-11-23 00:00:00  57847.04  55709.19  56308.07  42721.337108\n",
       "3  57397.93  2021-11-22 00:00:00   59224.7  55746.63  58860.23  57911.765042\n",
       "4  59212.89  2021-11-21 00:00:00  59996.33  58712.58  59776.14  18103.065426"
      ]
     },
     "execution_count": 7,
     "metadata": {},
     "output_type": "execute_result"
    }
   ],
   "source": [
    "# Create a filtered dataframe from specific columns\n",
    "premise_cols = [\"average\", \"time\", \"high\", \"low\", \"open\", \"volume\"]\n",
    "premise_transformed= bitcoin_df[premise_cols].copy()\n",
    "\n",
    "# Rename the column headers\n",
    "premise_transformed = premise_transformed.rename(columns={\"average\": \"Average\",\n",
    "                                                          \"time\": \"Time\",\n",
    "                                                          \"high\": \"High\",\n",
    "                                                          \"low\": \"Low\",\n",
    "                                                          \"open\": \"Open\",\n",
    "                                                          \"volume\": \"Volume\"})\n",
    "\n",
    "premise_transformed.head()"
   ]
  },
  {
   "cell_type": "code",
   "execution_count": 8,
   "id": "dae54a48",
   "metadata": {},
   "outputs": [],
   "source": [
    "connection_string = \"postgres:rocket211@localhost:5432/Crypto_DB\"\n",
    "engine = create_engine(f'postgresql://{connection_string}')"
   ]
  },
  {
   "cell_type": "code",
   "execution_count": 9,
   "id": "02bd2537",
   "metadata": {},
   "outputs": [
    {
     "name": "stderr",
     "output_type": "stream",
     "text": [
      "<ipython-input-9-2d97e9123e98>:2: SADeprecationWarning: The Engine.table_names() method is deprecated and will be removed in a future release.  Please refer to Inspector.get_table_names(). (deprecated since: 1.4)\n",
      "  engine.table_names()\n"
     ]
    },
    {
     "data": {
      "text/plain": [
       "['\"Bitcoin\"', 'Cosmos', 'Doge', 'Bitcoin', 'dataworld']"
      ]
     },
     "execution_count": 9,
     "metadata": {},
     "output_type": "execute_result"
    }
   ],
   "source": [
    "# Confirm tables\n",
    "engine.table_names()"
   ]
  },
  {
   "cell_type": "code",
   "execution_count": null,
   "id": "2cb68e31",
   "metadata": {},
   "outputs": [],
   "source": []
  }
 ],
 "metadata": {
  "kernelspec": {
   "display_name": "Python 3",
   "language": "python",
   "name": "python3"
  },
  "language_info": {
   "codemirror_mode": {
    "name": "ipython",
    "version": 3
   },
   "file_extension": ".py",
   "mimetype": "text/x-python",
   "name": "python",
   "nbconvert_exporter": "python",
   "pygments_lexer": "ipython3",
   "version": "3.8.8"
  }
 },
 "nbformat": 4,
 "nbformat_minor": 5
}
